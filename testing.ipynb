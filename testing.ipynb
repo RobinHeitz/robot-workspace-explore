{
 "cells": [
  {
   "cell_type": "code",
   "execution_count": 2,
   "metadata": {},
   "outputs": [],
   "source": [
    "import swift\n",
    "import roboticstoolbox as rtb\n",
    "import spatialgeometry as sg\n",
    "import spatialmath as sm"
   ]
  },
  {
   "cell_type": "code",
   "execution_count": 4,
   "metadata": {},
   "outputs": [
    {
     "ename": "AttributeError",
     "evalue": "module 'roboticstoolbox' has no attribute 'Box'",
     "output_type": "error",
     "traceback": [
      "\u001b[0;31m---------------------------------------------------------------------------\u001b[0m",
      "\u001b[0;31mAttributeError\u001b[0m                            Traceback (most recent call last)",
      "\u001b[1;32m/home/robin/dev/robot-workspace-explore/testing.ipynb Cell 2\u001b[0m line \u001b[0;36m1\n\u001b[1;32m      <a href='vscode-notebook-cell:/home/robin/dev/robot-workspace-explore/testing.ipynb#W1sZmlsZQ%3D%3D?line=6'>7</a>\u001b[0m robot\u001b[39m.\u001b[39mq \u001b[39m=\u001b[39m robot\u001b[39m.\u001b[39mqr\n\u001b[1;32m      <a href='vscode-notebook-cell:/home/robin/dev/robot-workspace-explore/testing.ipynb#W1sZmlsZQ%3D%3D?line=7'>8</a>\u001b[0m env\u001b[39m.\u001b[39madd(robot)\n\u001b[0;32m---> <a href='vscode-notebook-cell:/home/robin/dev/robot-workspace-explore/testing.ipynb#W1sZmlsZQ%3D%3D?line=9'>10</a>\u001b[0m obstacle \u001b[39m=\u001b[39m rtb\u001b[39m.\u001b[39;49mBox([\u001b[39m1\u001b[39m, \u001b[39m1\u001b[39m, \u001b[39m1\u001b[39m], sm\u001b[39m.\u001b[39mSE3(\u001b[39m1\u001b[39m, \u001b[39m0\u001b[39m, \u001b[39m0\u001b[39m))\n\u001b[1;32m     <a href='vscode-notebook-cell:/home/robin/dev/robot-workspace-explore/testing.ipynb#W1sZmlsZQ%3D%3D?line=10'>11</a>\u001b[0m cuboid \u001b[39m=\u001b[39m sg\u001b[39m.\u001b[39mCuboid(\u001b[39m0.1\u001b[39m, sm\u001b[39m.\u001b[39mSE3(\u001b[39m1\u001b[39m,\u001b[39m1\u001b[39m,\u001b[39m1\u001b[39m))\n\u001b[1;32m     <a href='vscode-notebook-cell:/home/robin/dev/robot-workspace-explore/testing.ipynb#W1sZmlsZQ%3D%3D?line=11'>12</a>\u001b[0m env\u001b[39m.\u001b[39madd(cuboid)\n",
      "\u001b[0;31mAttributeError\u001b[0m: module 'roboticstoolbox' has no attribute 'Box'"
     ]
    }
   ],
   "source": [
    "\n",
    "# Create env\n",
    "env = swift.Swift()\n",
    "env.launch(realtime=True)\n",
    "\n",
    "# Create robot\n",
    "robot = rtb.models.Panda()\n",
    "robot.q = robot.qr\n",
    "env.add(robot)\n",
    "\n",
    "obstacle = sg.Box([1, 1, 1], sm.SE3(1, 0, 0))\n",
    "cuboid = sg.Cuboid(0.1, sm.SE3(1,1,1))\n",
    "env.add(cuboid)\n",
    "\n"
   ]
  }
 ],
 "metadata": {
  "kernelspec": {
   "display_name": "env",
   "language": "python",
   "name": "python3"
  },
  "language_info": {
   "codemirror_mode": {
    "name": "ipython",
    "version": 3
   },
   "file_extension": ".py",
   "mimetype": "text/x-python",
   "name": "python",
   "nbconvert_exporter": "python",
   "pygments_lexer": "ipython3",
   "version": "3.10.12"
  }
 },
 "nbformat": 4,
 "nbformat_minor": 2
}
